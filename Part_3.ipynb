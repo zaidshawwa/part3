{
  "nbformat": 4,
  "nbformat_minor": 0,
  "metadata": {
    "colab": {
      "provenance": []
    },
    "kernelspec": {
      "name": "python3",
      "display_name": "Python 3"
    },
    "language_info": {
      "name": "python"
    }
  },
  "cells": [
    {
      "cell_type": "markdown",
      "source": [
        "\n",
        "\n",
        "1.Data Loading\n",
        "\n"
      ],
      "metadata": {
        "id": "LSWDeQhftv65"
      }
    },
    {
      "cell_type": "code",
      "execution_count": null,
      "metadata": {
        "colab": {
          "base_uri": "https://localhost:8080/"
        },
        "id": "EsTm8ZNad7SG",
        "outputId": "e6bf5779-238e-4f57-8610-c7b56f3fef2f"
      },
      "outputs": [
        {
          "output_type": "stream",
          "name": "stdout",
          "text": [
            "   Member_number        Date   itemDescription\n",
            "0           1808  21-07-2015    tropical fruit\n",
            "1           2552  05-01-2015        whole milk\n",
            "2           2300  19-09-2015         pip fruit\n",
            "3           1187  12-12-2015  other vegetables\n",
            "4           3037  01-02-2015        whole milk\n",
            "Index(['Member_number', 'Date', 'itemDescription'], dtype='object')\n"
          ]
        }
      ],
      "source": [
        "\n",
        "\n",
        "# استيراد المكتبات الأساسية\n",
        "import pandas as pd  # مكتبة التعامل مع البيانات\n",
        "from mlxtend.frequent_patterns import apriori, association_rules  # مكتبة تحليل القواعد الارتباطية\n",
        "from google.colab import files\n",
        "import pandas as pd\n",
        "\n",
        "# قراءة ملف CSV المحمل\n",
        "df = pd.read_csv(\"Groceries_dataset.csv\")\n",
        "\n",
        "# عرض أول 5 صفوف من البيانات للتأكد من تحميلها بشكل صحيح\n",
        "print(df.head())\n",
        "print(df.columns)\n",
        "\n"
      ]
    },
    {
      "cell_type": "markdown",
      "source": [
        "2.Transforming Data into Transaction Format\n",
        "\n",
        "\n",
        "\n",
        "\n",
        "\n",
        "\n"
      ],
      "metadata": {
        "id": "sOOzB0Y8t8xR"
      }
    },
    {
      "cell_type": "code",
      "source": [
        "# التأكد من وجود الأعمدة المناسبة\n",
        "print(df.columns)\n",
        "\n",
        "# تحويل البيانات إلى صيغة معاملات (Transaction Format)\n",
        "df_basket = df.groupby(['Member_number', 'Date'])['itemDescription'].apply(list).reset_index()\n",
        "df_basket.columns = ['Member_number', 'Date', 'Items']\n",
        "\n",
        "# عرض بعض البيانات\n",
        "print(df_basket.head())\n"
      ],
      "metadata": {
        "colab": {
          "base_uri": "https://localhost:8080/"
        },
        "id": "23hSrhy6pRlc",
        "outputId": "eaf245be-8210-4317-de27-c2bb9460f1d0"
      },
      "execution_count": null,
      "outputs": [
        {
          "output_type": "stream",
          "name": "stdout",
          "text": [
            "Index(['Member_number', 'Date', 'itemDescription'], dtype='object')\n",
            "   Member_number        Date  \\\n",
            "0           1000  15-03-2015   \n",
            "1           1000  24-06-2014   \n",
            "2           1000  24-07-2015   \n",
            "3           1000  25-11-2015   \n",
            "4           1000  27-05-2015   \n",
            "\n",
            "                                               Items  \n",
            "0  [sausage, whole milk, semi-finished bread, yog...  \n",
            "1                  [whole milk, pastry, salty snack]  \n",
            "2                     [canned beer, misc. beverages]  \n",
            "3                        [sausage, hygiene articles]  \n",
            "4                         [soda, pickled vegetables]  \n"
          ]
        }
      ]
    },
    {
      "cell_type": "markdown",
      "source": [
        "3.Converting Data to One-Hot Encoded Format\n",
        "\n",
        "\n",
        "\n",
        "\n",
        "\n",
        "\n"
      ],
      "metadata": {
        "id": "AMK6ZbW8uI2X"
      }
    },
    {
      "cell_type": "code",
      "source": [
        "from mlxtend.preprocessing import TransactionEncoder\n",
        "\n",
        "# تحويل البيانات إلى صيغة معاملات ثنائية\n",
        "te = TransactionEncoder()\n",
        "te_ary = te.fit(df_basket['Items']).transform(df_basket['Items'])\n",
        "df_encoded = pd.DataFrame(te_ary, columns=te.columns_)\n",
        "\n",
        "# عرض البيانات المحولة\n",
        "print(df_encoded.head())\n"
      ],
      "metadata": {
        "colab": {
          "base_uri": "https://localhost:8080/"
        },
        "id": "PeIAHqWmqKMh",
        "outputId": "f6f0ecf5-d645-4d1e-f55c-99bc54573006"
      },
      "execution_count": null,
      "outputs": [
        {
          "output_type": "stream",
          "name": "stdout",
          "text": [
            "   Instant food products  UHT-milk  abrasive cleaner  artif. sweetener  \\\n",
            "0                  False     False             False             False   \n",
            "1                  False     False             False             False   \n",
            "2                  False     False             False             False   \n",
            "3                  False     False             False             False   \n",
            "4                  False     False             False             False   \n",
            "\n",
            "   baby cosmetics   bags  baking powder  bathroom cleaner   beef  berries  \\\n",
            "0           False  False          False             False  False    False   \n",
            "1           False  False          False             False  False    False   \n",
            "2           False  False          False             False  False    False   \n",
            "3           False  False          False             False  False    False   \n",
            "4           False  False          False             False  False    False   \n",
            "\n",
            "   ...  turkey  vinegar  waffles  whipped/sour cream  whisky  white bread  \\\n",
            "0  ...   False    False    False               False   False        False   \n",
            "1  ...   False    False    False               False   False        False   \n",
            "2  ...   False    False    False               False   False        False   \n",
            "3  ...   False    False    False               False   False        False   \n",
            "4  ...   False    False    False               False   False        False   \n",
            "\n",
            "   white wine  whole milk  yogurt  zwieback  \n",
            "0       False        True    True     False  \n",
            "1       False        True   False     False  \n",
            "2       False       False   False     False  \n",
            "3       False       False   False     False  \n",
            "4       False       False   False     False  \n",
            "\n",
            "[5 rows x 167 columns]\n"
          ]
        }
      ]
    },
    {
      "cell_type": "markdown",
      "source": [
        "4.Extracting Frequent Itemsets using Apriori\n",
        "\n",
        "\n",
        "\n",
        "\n",
        "\n",
        "\n"
      ],
      "metadata": {
        "id": "0XVKreKJuZg0"
      }
    },
    {
      "cell_type": "code",
      "source": [
        "from mlxtend.frequent_patterns import apriori, association_rules\n",
        "\n",
        "# تطبيق Apriori مع min_support أقل للحصول على المزيد من القواعد\n",
        "frequent_itemsets = apriori(df_encoded, min_support=0.01, use_colnames=True)\n",
        "\n",
        "# عرض أكثر المنتجات المشتركة شيوعًا\n",
        "print(frequent_itemsets.head(10))\n",
        "\n",
        "# استخراج القواعد الارتباطية باستخدام lift مع قيمة أقل لـ min_threshold\n",
        "rules = association_rules(frequent_itemsets, metric=\"lift\", min_threshold=0.3)\n",
        "\n",
        "# التحقق مما إذا كانت هناك قواعد\n",
        "if rules.empty:\n",
        "    print(\" لم يتم العثور على أي قواعد ارتباطية، جرّب تقليل min_support أو min_threshold.\")\n",
        "else:\n",
        "    # حساب متوسط الثقة والرفع فقط إذا كانت هناك قواعد\n",
        "    confidence_mean = rules[\"confidence\"].mean()\n",
        "    lift_mean = rules[\"lift\"].mean()\n",
        "\n",
        "    print(f\"متوسط الثقة (Confidence Mean): {confidence_mean:.4f}\")\n",
        "    print(f\"متوسط الرفع (Lift Mean): {lift_mean:.4f}\")\n",
        "\n",
        "    # عرض أهم القواعد\n",
        "    print(rules[['antecedents', 'consequents', 'support', 'confidence', 'lift']].head(10))\n",
        "    # إذا كان متوسط الثقة < 0.3 ➝ min_support منخفض جدًا ويؤدي إلى قواعد ضعيفة.\n",
        "# إذا كان متوسط الرفع < 1.2 ➝ القواعد المستخرجة ليست قوية بما يكفي، حاول رفع min_support.\n",
        "# إذا كان متوسط الرفع > 2 والثقة > 0.7 ولكن عدد القواعد قليل جدًا ➝ min_support كبير جدًا، حاول تقليله.\n",
        "\n"
      ],
      "metadata": {
        "colab": {
          "base_uri": "https://localhost:8080/"
        },
        "id": "AB-sKDGFqQ7d",
        "outputId": "07d074b8-94ee-41e1-adc8-3f5db169187f"
      },
      "execution_count": null,
      "outputs": [
        {
          "output_type": "stream",
          "name": "stdout",
          "text": [
            "    support         itemsets\n",
            "0  0.021386       (UHT-milk)\n",
            "1  0.033950           (beef)\n",
            "2  0.021787        (berries)\n",
            "3  0.016574      (beverages)\n",
            "4  0.045312   (bottled beer)\n",
            "5  0.060683  (bottled water)\n",
            "6  0.037626    (brown bread)\n",
            "7  0.035220         (butter)\n",
            "8  0.017577    (butter milk)\n",
            "9  0.014369          (candy)\n",
            "متوسط الثقة (Confidence Mean): 0.1007\n",
            "متوسط الرفع (Lift Mean): 0.7882\n",
            "          antecedents         consequents   support  confidence      lift\n",
            "0  (other vegetables)        (rolls/buns)  0.010559    0.086481  0.786154\n",
            "1        (rolls/buns)  (other vegetables)  0.010559    0.095990  0.786154\n",
            "2  (other vegetables)        (whole milk)  0.014837    0.121511  0.769430\n",
            "3        (whole milk)  (other vegetables)  0.014837    0.093948  0.769430\n",
            "4        (whole milk)        (rolls/buns)  0.013968    0.088447  0.804028\n",
            "5        (rolls/buns)        (whole milk)  0.013968    0.126974  0.804028\n",
            "6              (soda)        (whole milk)  0.011629    0.119752  0.758296\n",
            "7        (whole milk)              (soda)  0.011629    0.073635  0.758296\n",
            "8        (whole milk)            (yogurt)  0.011161    0.070673  0.822940\n",
            "9            (yogurt)        (whole milk)  0.011161    0.129961  0.822940\n"
          ]
        }
      ]
    },
    {
      "cell_type": "markdown",
      "source": [
        "5.Extracting Association Rules using Apriori\n",
        "\n",
        "\n",
        "\n",
        "\n",
        "\n",
        "\n"
      ],
      "metadata": {
        "id": "9vbCFLR7um8m"
      }
    },
    {
      "cell_type": "code",
      "source": [
        "rules = association_rules(frequent_itemsets, metric=\"lift\", min_threshold=0.5)\n",
        "\n",
        "# عرض أهم القواعد الارتباطية\n",
        "print(rules[['antecedents', 'consequents', 'support', 'confidence', 'lift']].head())\n"
      ],
      "metadata": {
        "colab": {
          "base_uri": "https://localhost:8080/"
        },
        "id": "6mUBCOaiqXs3",
        "outputId": "1f8bcfe6-7317-4a51-861d-69d913c6e35a"
      },
      "execution_count": null,
      "outputs": [
        {
          "output_type": "stream",
          "name": "stdout",
          "text": [
            "          antecedents         consequents   support  confidence      lift\n",
            "0  (other vegetables)        (rolls/buns)  0.010559    0.086481  0.786154\n",
            "1        (rolls/buns)  (other vegetables)  0.010559    0.095990  0.786154\n",
            "2  (other vegetables)        (whole milk)  0.014837    0.121511  0.769430\n",
            "3        (whole milk)  (other vegetables)  0.014837    0.093948  0.769430\n",
            "4        (whole milk)        (rolls/buns)  0.013968    0.088447  0.804028\n"
          ]
        }
      ]
    },
    {
      "cell_type": "markdown",
      "source": [
        "6.Extracting and Sorting Association Rules Based on Lift\n",
        "\n",
        "\n",
        "\n",
        "\n",
        "\n",
        "\n"
      ],
      "metadata": {
        "id": "Q9Sr2HSHuzVG"
      }
    },
    {
      "cell_type": "code",
      "source": [
        "# استخراج القواعد الارتباطية باستخدام Apriori\n",
        "rules = association_rules(frequent_itemsets, metric=\"lift\", min_threshold=0.3)\n",
        "\n",
        "# التحقق من عدد القواعد المستخرجة\n",
        "print(f\"Total rules found: {len(rules)}\")\n",
        "\n",
        "# إذا كانت القواعد قليلة، تقليل min_threshold للحصول على المزيد\n",
        "if len(rules) < 10:\n",
        "    rules = association_rules(frequent_itemsets, metric=\"lift\", min_threshold=0.2)\n",
        "\n",
        "# ترتيب القواعد حسب أعلى قيمة للـ Lift\n",
        "rules_sorted = rules.sort_values(by='lift', ascending=False)\n",
        "\n",
        "# عرض أهم 10 قواعد\n",
        "print(rules_sorted[['antecedents', 'consequents', 'support', 'confidence', 'lift']].head(10))\n"
      ],
      "metadata": {
        "colab": {
          "base_uri": "https://localhost:8080/"
        },
        "id": "5iAfAJoFqemQ",
        "outputId": "b51bfd39-7c0e-475a-c4ff-c163b7b65d11"
      },
      "execution_count": null,
      "outputs": [
        {
          "output_type": "stream",
          "name": "stdout",
          "text": [
            "Total rules found: 10\n",
            "          antecedents         consequents   support  confidence      lift\n",
            "8        (whole milk)            (yogurt)  0.011161    0.070673  0.822940\n",
            "9            (yogurt)        (whole milk)  0.011161    0.129961  0.822940\n",
            "4        (whole milk)        (rolls/buns)  0.013968    0.088447  0.804028\n",
            "5        (rolls/buns)        (whole milk)  0.013968    0.126974  0.804028\n",
            "0  (other vegetables)        (rolls/buns)  0.010559    0.086481  0.786154\n",
            "1        (rolls/buns)  (other vegetables)  0.010559    0.095990  0.786154\n",
            "2  (other vegetables)        (whole milk)  0.014837    0.121511  0.769430\n",
            "3        (whole milk)  (other vegetables)  0.014837    0.093948  0.769430\n",
            "6              (soda)        (whole milk)  0.011629    0.119752  0.758296\n",
            "7        (whole milk)              (soda)  0.011629    0.073635  0.758296\n"
          ]
        }
      ]
    },
    {
      "cell_type": "markdown",
      "source": [
        "7.Visualize results using network graphs."
      ],
      "metadata": {
        "id": "16tTR9uRvNm1"
      }
    },
    {
      "cell_type": "code",
      "source": [
        "import networkx as nx\n",
        "import matplotlib.pyplot as plt\n",
        "\n",
        "# إنشاء الرسم البياني\n",
        "G = nx.DiGraph()\n",
        "\n",
        "# إضافة العلاقات إلى الرسم البياني\n",
        "for _, row in rules_sorted.head(10).iterrows():  # عرض أول 10 قواعد فقط لتسهيل الفهم\n",
        "    antecedent = tuple(row['antecedents'])  # المنتج الأول\n",
        "    consequent = tuple(row['consequents'])  # المنتج الناتج\n",
        "    confidence = round(row['confidence'], 2)  # الثقة في القاعدة\n",
        "\n",
        "    G.add_edge(antecedent, consequent, weight=confidence)\n",
        "\n",
        "# رسم المخطط\n",
        "plt.figure(figsize=(10, 6))\n",
        "pos = nx.spring_layout(G, seed=42)  # تحديد تخطيط الشبكة\n",
        "edges = G.edges(data=True)\n",
        "\n",
        "# رسم العقد (العناصر)\n",
        "nx.draw(G, pos, with_labels=True, node_size=3000, node_color=\"lightblue\", edge_color=\"gray\", font_size=10, font_weight=\"bold\")\n",
        "\n",
        "# إضافة أوزان الحواف (الثقة)\n",
        "edge_labels = {(edge[0], edge[1]): edge[2]['weight'] for edge in edges}\n",
        "nx.draw_networkx_edge_labels(G, pos, edge_labels=edge_labels, font_size=10)\n",
        "\n",
        "plt.title(\"Network Graph of Association Rules\")\n",
        "plt.show()\n"
      ],
      "metadata": {
        "colab": {
          "base_uri": "https://localhost:8080/",
          "height": 659
        },
        "id": "x9mBNTRQvFq8",
        "outputId": "eb4659b0-7188-449d-c59c-99a3c5998b96"
      },
      "execution_count": null,
      "outputs": [
        {
          "output_type": "display_data",
          "data": {
            "text/plain": [
              "<Figure size 1000x600 with 1 Axes>"
            ],
            "image/png": "[encoded data removed]"
          },
          "metadata": {}
        }
      ]
    },
    {
      "cell_type": "markdown",
      "source": [
        "# خطوات تحليل بيانات مشتريات العملاء باستخدام قواعد الارتباط\n",
        "\n",
        "---\n",
        "\n",
        "## الخطوة الأولى: تحميل ومعاينة البيانات\n",
        "\n",
        "- **تحميل البيانات:**\n",
        "  - تحميل ملف `Groceries_dataset.csv` الذي يحتوي على معلومات عن مشتريات العملاء.\n",
        "  \n",
        "- **معاينة البيانات:**\n",
        "  - التحقق من الأعمدة الأساسية مثل:\n",
        "    - رقم العميل (Member_number)\n",
        "    - تاريخ الشراء (Date)\n",
        "    - قائمة المنتجات (itemDescription)\n",
        "  - التأكد من تنسيق البيانات وجودتها قبل بدء المعالجة.\n",
        "\n",
        "- **النتائج المتوقعة:**\n",
        "  - ظهور الأعمدة المذكورة مع بيانات أولية صحيحة.\n",
        "  - التأكيد على صحة تنسيق البيانات لمزيد من المعالجة.\n",
        "\n",
        "---\n",
        "\n",
        "## الخطوة الثانية: تحويل البيانات إلى شكل معاملات\n",
        "\n",
        "- **تجميع المعاملات:**\n",
        "  - تحويل البيانات بحيث يحتوي كل صف على قائمة المنتجات التي اشتراها العميل في نفس اليوم.\n",
        "  - كل معاملة تصبح عبارة عن \"سلة\" من المنتجات.\n",
        "\n",
        "- **النتائج المتوقعة:**\n",
        "  - الحصول على مجموعة بيانات حيث يمثل كل صف معاملة تحتوي على مجموعة المنتجات المشتراة.\n",
        "\n",
        "---\n",
        "\n",
        "## الخطوة الثالثة: تحويل البيانات إلى مصفوفة معاملات ثنائية\n",
        "\n",
        "- **تنسيق البيانات لخوارزمية Apriori:**\n",
        "  - تحويل كل منتج إلى عمود بحيث يمثل قيمة 1 إذا تم شراؤه في المعاملة و0 إذا لم يتم شراؤه.\n",
        "  \n",
        "- **النتائج المتوقعة:**\n",
        "  - الحصول على مصفوفة معاملات ثنائية (binary matrix) جاهزة لتطبيق خوارزمية Apriori.\n",
        "\n",
        "---\n",
        "\n",
        "## الخطوة الرابعة: استخراج وتصفية القواعد باستخدام Apriori\n",
        "\n",
        "- **استخراج المجموعات الشائعة (Frequent Itemsets):**\n",
        "  - استخدام `min_support=0.01` لتحديد العناصر المتكررة ضمن المعاملات.\n",
        "\n",
        "- **تصفية القواعد:**\n",
        "  - تصفية القواعد باستخدام `min_threshold=0.3` بناءً على قيمة Lift.\n",
        "  - حساب متوسط الثقة (Confidence Mean) ومتوسط الرفع (Lift Mean).\n",
        "  - استخراج أهم 10 قواعد لتحليلها.\n",
        "\n",
        "- **النتائج المتوقعة:**\n",
        "  - إذا لم يتم العثور على قواعد، ينصح بتقليل `min_support` أو `min_threshold`.\n",
        "  - إذا كان متوسط الثقة أقل من 0.3، تُعتبر القواعد ضعيفة وقد يستدعي ذلك رفع قيمة `min_support`.\n",
        "  - إذا كان متوسط Lift أقل من 1.2، فإن القواعد ليست قوية بما فيه الكفاية ويتطلب الأمر تحسين التصفية.\n",
        "  - إذا كان Lift > 2 مع ثقة مرتفعة ولكن عدد القواعد قليل، يمكن تقليل `min_support` قليلاً للحصول على نتائج أفضل.\n",
        "\n",
        "---\n",
        "\n",
        "## الخطوة الخامسة: استخراج قواعد الارتباط القوية\n",
        "\n",
        "- **استخدام association_rules():**\n",
        "  - استخراج القواعد التي تربط بين المنتجات.\n",
        "  - تصفية القواعد بناءً على قيم Lift لضمان أن القواعد المستخرجة قوية ومفيدة.\n",
        "\n",
        "- **النتائج المتوقعة:**\n",
        "  - استخراج العلاقات القوية بين المنتجات بناءً على قيم Lift و Confidence.\n",
        "  - الاحتفاظ فقط بالقواعد الأكثر فائدة للتسويق والتوصيات.\n",
        "\n",
        "---\n",
        "\n",
        "## الخطوة السادسة: تحليل القواعد بصريًا\n",
        "\n",
        "- **إنشاء مخطط شبكي (Network Graph):**\n",
        "  - رسم شبكة تربط المنتجات التي يتم شراؤها معًا.\n",
        "  - تمثيل كل منتج بعقدة (Node) وكل وصلة (Edge) بين المنتجات تمثل علاقة ارتباط قوية.\n",
        "\n",
        "- **النتائج المتوقعة:**\n",
        "  - الحصول على مخطط شبكي يوضح العلاقات بين المنتجات.\n",
        "  - تسهيل تحديد المنتجات الرئيسية والعلاقات القوية بينها، مما يساعد في استراتيجيات التسويق والتوصيات.\n"
      ],
      "metadata": {
        "id": "53fYcVa7Zyvh"
      }
    }
  ]
}